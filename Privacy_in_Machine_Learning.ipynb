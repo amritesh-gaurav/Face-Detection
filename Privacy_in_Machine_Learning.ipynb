{
  "nbformat": 4,
  "nbformat_minor": 0,
  "metadata": {
    "colab": {
      "name": "Privacy in Machine Learning.ipynb",
      "provenance": [],
      "collapsed_sections": [],
      "include_colab_link": true
    },
    "kernelspec": {
      "name": "python3",
      "display_name": "Python 3"
    }
  },
  "cells": [
    {
      "cell_type": "markdown",
      "metadata": {
        "id": "view-in-github",
        "colab_type": "text"
      },
      "source": [
        "<a href=\"https://colab.research.google.com/github/amritesh-gaurav/Face-Detection/blob/main/Privacy_in_Machine_Learning.ipynb\" target=\"_parent\"><img src=\"https://colab.research.google.com/assets/colab-badge.svg\" alt=\"Open In Colab\"/></a>"
      ]
    },
    {
      "cell_type": "markdown",
      "metadata": {
        "id": "8ycsvl36oDQJ"
      },
      "source": [
        "# Welcome to the notebook for the Privacy in Machine Learning vider from Jordan Harrod's AI 101 series on YouTube! \n",
        "\n",
        "If you haven't already watched the video, you can check it out here: https://www.youtube.com/watch?v=MOcTGM_UteM\n",
        "\n",
        "This notebook contains two examples of how differential privacy and federated learning work, relying on existing code libraries that simplify their implementations for programmers who are not cryptography experts (like me!). \n",
        "\n",
        "# **These examples are adapted from the examples provided by the developers of each library - all credit goes to the original authors. **\n",
        "\n",
        "To run any of the examples, click on \"Open in Playground\" on the top left, then hover over the top left corner of any code block and click on the arrow that appears.\n",
        "\n",
        "Links to the relevant libraries can be found here: \n",
        "\n",
        "IBM Differential Privacy - https://github.com/IBM/differential-privacy-library\n",
        "\n",
        "PySyft - https://github.com/OpenMined/PySyft\n",
        "\n"
      ]
    },
    {
      "cell_type": "code",
      "metadata": {
        "id": "2mbZgswvZAPc"
      },
      "source": [
        "# This code block downloads, installs, and imports the relevant libraries. \n",
        "\n",
        "#!pip install numpy\n",
        "#!pip install scikit-learn\n",
        "#!pip install syft[udacity]\n",
        "#!pip install diffprivlib\n",
        "#!pip install syft==0.2.9\n",
        "\n",
        "import numpy \n",
        "import sklearn \n",
        "from sklearn import datasets\n",
        "import syft \n",
        "import diffprivlib\n",
        "import matplotlib.pyplot as plt\n",
        "import torch \n",
        "from torch import nn\n",
        "from torch import optim"
      ],
      "execution_count": 1,
      "outputs": []
    },
    {
      "cell_type": "markdown",
      "metadata": {
        "id": "RALpbVS6pJG1"
      },
      "source": [
        "Our first example focuses on differential privacy. Here, we can create a figure that compares the accuracy of our predictions with the level of privacy on our data by changing epsilon. \n",
        "\n",
        "This example has been adapted from the example provided in the IBM Differential Privacy Github Repository - see sources at the top for the original version. "
      ]
    },
    {
      "cell_type": "code",
      "metadata": {
        "id": "UmS1Rmo8pb4O",
        "outputId": "3f14a8e6-ad4d-4bd6-fd22-63f3713d5cc8",
        "colab": {
          "base_uri": "https://localhost:8080/",
          "height": 527
        }
      },
      "source": [
        "data, labels = datasets.load_iris(return_X_y=True)\n",
        "data_train, data_test, labels_train, labels_test = sklearn.model_selection.train_test_split(data, labels)\n",
        "\n",
        "def sweep(eps=[0.00001, 0.001, 0.01, 10, 1000, 10000]):\n",
        "  accuracy = [] \n",
        "  for i in range(len(eps)):\n",
        "    model = diffprivlib.models.GaussianNB(epsilon=eps[i])\n",
        "    model.fit(data_train, labels_train)\n",
        "    accuracy.append(sklearn.metrics.accuracy_score(labels_test, model.predict(data_test)))\n",
        "  return accuracy \n",
        "\n",
        "eps=[0.00001, 0.001, 0.01, 10, 1000, 10000] # Try changing these values to see how the accuracy plot changes! \n",
        "\n",
        "accuracy = sweep(eps)\n",
        "\n",
        "\n",
        "plt.figure() # notice that the accuracy for each value changes every time you run it with the same values \n",
        "plt.semilogx(eps, accuracy) # this is because random noise is... well, random, so the accuracy shifts a bit based on how the data was altered each time! \n",
        "plt.title('Privacy-Accuracy Trade-Off')\n",
        "plt.xlabel('Epsilon')\n",
        "plt.ylabel('Accuracy')\n",
        "plt.show()\n",
        "\n"
      ],
      "execution_count": 2,
      "outputs": [
        {
          "output_type": "stream",
          "name": "stderr",
          "text": [
            "/usr/local/lib/python3.7/dist-packages/diffprivlib/models/naive_bayes.py:101: PrivacyLeakWarning: Bounds have not been specified and will be calculated on the data provided. This will result in additional privacy leakage. To ensure differential privacy and no additional privacy leakage, specify bounds for each dimension.\n",
            "  \"privacy leakage, specify bounds for each dimension.\", PrivacyLeakWarning)\n",
            "/usr/local/lib/python3.7/dist-packages/diffprivlib/models/naive_bayes.py:101: PrivacyLeakWarning: Bounds have not been specified and will be calculated on the data provided. This will result in additional privacy leakage. To ensure differential privacy and no additional privacy leakage, specify bounds for each dimension.\n",
            "  \"privacy leakage, specify bounds for each dimension.\", PrivacyLeakWarning)\n",
            "/usr/local/lib/python3.7/dist-packages/diffprivlib/models/naive_bayes.py:101: PrivacyLeakWarning: Bounds have not been specified and will be calculated on the data provided. This will result in additional privacy leakage. To ensure differential privacy and no additional privacy leakage, specify bounds for each dimension.\n",
            "  \"privacy leakage, specify bounds for each dimension.\", PrivacyLeakWarning)\n",
            "/usr/local/lib/python3.7/dist-packages/diffprivlib/models/naive_bayes.py:101: PrivacyLeakWarning: Bounds have not been specified and will be calculated on the data provided. This will result in additional privacy leakage. To ensure differential privacy and no additional privacy leakage, specify bounds for each dimension.\n",
            "  \"privacy leakage, specify bounds for each dimension.\", PrivacyLeakWarning)\n",
            "/usr/local/lib/python3.7/dist-packages/diffprivlib/models/naive_bayes.py:101: PrivacyLeakWarning: Bounds have not been specified and will be calculated on the data provided. This will result in additional privacy leakage. To ensure differential privacy and no additional privacy leakage, specify bounds for each dimension.\n",
            "  \"privacy leakage, specify bounds for each dimension.\", PrivacyLeakWarning)\n",
            "/usr/local/lib/python3.7/dist-packages/diffprivlib/models/naive_bayes.py:101: PrivacyLeakWarning: Bounds have not been specified and will be calculated on the data provided. This will result in additional privacy leakage. To ensure differential privacy and no additional privacy leakage, specify bounds for each dimension.\n",
            "  \"privacy leakage, specify bounds for each dimension.\", PrivacyLeakWarning)\n"
          ]
        },
        {
          "output_type": "display_data",
          "data": {
            "text/plain": [
              "<Figure size 432x288 with 1 Axes>"
            ],
            "image/png": "[encoded data removed]"
          },
          "metadata": {
            "needs_background": "light"
          }
        }
      ]
    },
    {
      "cell_type": "markdown",
      "metadata": {
        "id": "RBKynGE5p3xk"
      },
      "source": [
        "Our second example focuses federated learning, using a library called PySyft. \n",
        "\n",
        "This example is adapted from the federated learning tutorial here: https://github.com/OpenMined/PySyft/blob/master/examples/tutorials/Part%2002%20-%20Intro%20to%20Federated%20Learning.ipynb \n",
        "\n",
        "Edit 2/29/20: A note on this example (which is also pointed out on the OpenMinded tutorial) - this is meant to show how the learning process works when you're pulling from separate datasets, but this process actually doesn't ensure privacy! You can call model.get() to learn about how to predict well on Alice's data without having seen it, which can help you learn more about the dataset itself, even potentially replicating it perfectly. A way to avoid this is to average Bob and Alice's model updates before sending them to the global model as we talked about in the video! Thanks to u//raj111sam for pointing this out on the r/artificial subreddit. "
      ]
    },
    {
      "cell_type": "code",
      "metadata": {
        "id": "cEULrQNuuI-o",
        "outputId": "524ddcab-7b2a-422a-e766-91fcc900abf8",
        "colab": {
          "base_uri": "https://localhost:8080/"
        }
      },
      "source": [
        "hook = syft.TorchHook(torch)\n",
        "\n",
        "bob = syft.VirtualWorker(hook, id=\"bob\")\n",
        "alice = syft.VirtualWorker(hook, id=\"alice\")\n",
        "\n",
        "data = torch.tensor([[0,0],[0,1],[1,0],[1,1.]], requires_grad=True)\n",
        "target = torch.tensor([[0],[0],[1],[1.]], requires_grad=True)\n",
        "\n",
        "# get pointers to training data on each worker by\n",
        "# sending some training data to bob and alice\n",
        "data_bob = data[0:2]\n",
        "target_bob = target[0:2]\n",
        "\n",
        "data_alice = data[2:]\n",
        "target_alice = target[2:]\n",
        "\n",
        "# Iniitalize A Toy Model\n",
        "model = nn.Linear(2,1)\n",
        "\n",
        "data_bob = data_bob.send(bob)\n",
        "data_alice = data_alice.send(alice)\n",
        "target_bob = target_bob.send(bob)\n",
        "target_alice = target_alice.send(alice)\n",
        "\n",
        "# organize pointers into a list\n",
        "datasets = [(data_bob,target_bob),(data_alice,target_alice)]\n",
        "\n",
        "opt = optim.SGD(params=model.parameters(),lr=0.1)\n",
        "\n",
        "def train():\n",
        "    # Training Logic\n",
        "    opt = optim.SGD(params=model.parameters(),lr=0.1)\n",
        "    for iter in range(10):\n",
        "        \n",
        "        # NEW) iterate through each worker's dataset separately\n",
        "        for data,target in datasets:\n",
        "            \n",
        "            # NEW) send model to correct worker - either Alice or Bob\n",
        "            model.send(data.location)\n",
        "\n",
        "            # 1) Reset the optimizer so that we can develop a new model\n",
        "            opt.zero_grad()\n",
        "\n",
        "            # 2) Predict on new (unseen) data using the model from the cloud\n",
        "            pred = model(data)\n",
        "\n",
        "            # 3) See how well (or not) we did on that prediction\n",
        "            loss = ((pred - target)**2).sum()\n",
        "\n",
        "            # 4) Figure out why we performed poorly\n",
        "            loss.backward()\n",
        "\n",
        "            # 5) Update the model's weights \n",
        "            opt.step()\n",
        "            \n",
        "            # NEW) Get the new model, to be tested and improved on a new, separate dataset \n",
        "            model.get()\n",
        "\n",
        "            # 6) print our progress\n",
        "            print(loss.get()) # NEW) slight edit... need to call .get() on loss\\\n",
        "    \n",
        "# federated averaging\n",
        "\n",
        "train()"
      ],
      "execution_count": 3,
      "outputs": [
        {
          "output_type": "stream",
          "name": "stdout",
          "text": [
            "tensor(0.0892, requires_grad=True)\n",
            "tensor(1.4918, requires_grad=True)\n",
            "tensor(0.5929, requires_grad=True)\n",
            "tensor(0.2495, requires_grad=True)\n",
            "tensor(0.4079, requires_grad=True)\n",
            "tensor(0.1356, requires_grad=True)\n",
            "tensor(0.2595, requires_grad=True)\n",
            "tensor(0.0845, requires_grad=True)\n",
            "tensor(0.1661, requires_grad=True)\n",
            "tensor(0.0540, requires_grad=True)\n",
            "tensor(0.1076, requires_grad=True)\n",
            "tensor(0.0352, requires_grad=True)\n",
            "tensor(0.0705, requires_grad=True)\n",
            "tensor(0.0234, requires_grad=True)\n",
            "tensor(0.0468, requires_grad=True)\n",
            "tensor(0.0159, requires_grad=True)\n",
            "tensor(0.0315, requires_grad=True)\n",
            "tensor(0.0110, requires_grad=True)\n",
            "tensor(0.0214, requires_grad=True)\n",
            "tensor(0.0077, requires_grad=True)\n"
          ]
        }
      ]
    }
  ]
}