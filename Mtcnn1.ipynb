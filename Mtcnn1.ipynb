{
 "cells": [
  {
   "cell_type": "code",
   "execution_count": null,
   "id": "5f457190-7ab6-44bd-a364-4b1e73525b4a",
   "metadata": {},
   "outputs": [],
   "source": [
    "from mtcnn import MTCNN\n",
    "import cv2\n",
    "detector = MTCNN()\n",
    "img = cv2.imread('Internship/1.jpg')\n",
    "output = detector.detect_faces(img)\n",
    "print (output)\n",
    "for i in output:\n",
    "    x,y,width,height = i['box']\n",
    "    le_x,le_y = i['keypoints']['left_eye']\n",
    "    re_x,re_y = i['keypoints']['right_eye']\n",
    "    n_x,n_y = i['keypoints']['nose']\n",
    "    ml_x,ml_y = i['keypoints']['mouth_left']\n",
    "    mr_x,mr_y = i['keypoints']['mouth_right']\n",
    "    \n",
    "    cv2.circle(img, center=(le_x,le_y), color=(0,255,0), thickness=2, radius=1)\n",
    "    cv2.circle(img, center=(re_x,re_y), color=(0,255,0), thickness=2, radius=1)\n",
    "    cv2.circle(img, center=(n_x,n_y), color=(0,255,0), thickness=2, radius=1)\n",
    "    cv2.circle(img, center=(ml_x,ml_y), color=(0,255,0), thickness=2, radius=1)\n",
    "    cv2.circle(img, center=(mr_x,mr_y), color=(0,255,0), thickness=2, radius=1)\n",
    "    cv2.rectangle(img, pt1=(x,y), pt2=(x+width,y+height), color=(0,0,255), thickness=1)\n",
    "cv2.imshow('result',img)\n",
    "cv2.waitKey(0)"
   ]
  },
  {
   "cell_type": "code",
   "execution_count": null,
   "id": "f687fecb-af5b-445e-8e50-f3fb21e85d73",
   "metadata": {},
   "outputs": [],
   "source": []
  }
 ],
 "metadata": {
  "kernelspec": {
   "display_name": "Python 3 (ipykernel)",
   "language": "python",
   "name": "python3"
  },
  "language_info": {
   "codemirror_mode": {
    "name": "ipython",
    "version": 3
   },
   "file_extension": ".py",
   "mimetype": "text/x-python",
   "name": "python",
   "nbconvert_exporter": "python",
   "pygments_lexer": "ipython3",
   "version": "3.10.4"
  }
 },
 "nbformat": 4,
 "nbformat_minor": 5
}
