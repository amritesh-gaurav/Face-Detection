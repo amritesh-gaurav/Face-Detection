{
 "cells": [
  {
   "cell_type": "code",
   "execution_count": 6,
   "metadata": {},
   "outputs": [
    {
     "name": "stdout",
     "output_type": "stream",
     "text": [
      "205120083_Ruchi_Panse_2.JPG\n",
      "205120105_Sudhanshu_1.JPG\n",
      "Kunal Kumawat_1.JPG\n"
     ]
    },
    {
     "name": "stderr",
     "output_type": "stream",
     "text": [
      "C:\\Users\\siemens\\AppData\\Local\\Temp\\ipykernel_13956\\144077077.py:15: DeprecationWarning: ANTIALIAS is deprecated and will be removed in Pillow 10 (2023-07-01). Use Resampling.LANCZOS instead.\n",
      "  imageName = imageName.resize((w,h), Image.ANTIALIAS)\n"
     ]
    }
   ],
   "source": [
    "import os\n",
    "from PIL import Image\n",
    "\n",
    "imgFormat = \".JPG\"\n",
    "fullimgpath = \"E:/D&C/\"\n",
    "finalimgpath = \"E:/D&C/Images/\"\n",
    "imfilelist = [os.path.join(fullimgpath, f) for f in os.listdir(fullimgpath) if f.endswith(imgFormat)]\n",
    "\n",
    "## Read the input image\n",
    "for el in imfilelist:\n",
    "    print(el.split(\"/\")[-1])\n",
    "    imageName = Image.open(el)\n",
    "    w = 64\n",
    "    h = 64\n",
    "    imageName = imageName.resize((w,h), Image.ANTIALIAS)\n",
    "    imageName.save(finalimgpath + el.split(\"/\")[-1])"
   ]
  }
 ],
 "metadata": {
  "kernelspec": {
   "display_name": "Python 3.10.5 64-bit",
   "language": "python",
   "name": "python3"
  },
  "language_info": {
   "codemirror_mode": {
    "name": "ipython",
    "version": 3
   },
   "file_extension": ".py",
   "mimetype": "text/x-python",
   "name": "python",
   "nbconvert_exporter": "python",
   "pygments_lexer": "ipython3",
   "version": "3.10.5"
  },
  "orig_nbformat": 4,
  "vscode": {
   "interpreter": {
    "hash": "45e6d53874419d5ee069b316505fbf446d1495aeccb32ce5c14ec9b4506a392b"
   }
  }
 },
 "nbformat": 4,
 "nbformat_minor": 2
}
