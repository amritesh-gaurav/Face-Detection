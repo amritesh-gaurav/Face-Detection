{
 "cells": [
  {
   "cell_type": "code",
   "execution_count": null,
   "id": "5f457190-7ab6-44bd-a364-4b1e73525b4a",
   "metadata": {},
   "outputs": [],
   "source": [
    "from mtcnn import MTCNN\n",
    "import cv2\n",
    "\n",
    "#Initialising video capture by giving primary camera port\n",
    "capture = cv2.VideoCapture(0)\n",
    "\n",
    "detector = MTCNN()  #initialising detector\n",
    "\n",
    "#Capturing frames\n",
    "while True:                   \n",
    "    ret,frame = capture.read()\n",
    "    output = detector.detect_faces(frame)\n",
    "    \n",
    "    for i in output:\n",
    "        x,y,width,height = i['box']\n",
    "        cv2.rectangle(frame, pt1=(x,y), pt2=(x+width,y+height), color=(0,255,0), thickness=1)\n",
    "    \n",
    "    #showing the captured frames in a window\n",
    "    cv2.imshow('Capture', frame)\n",
    "    \n",
    "    #closing the above window\n",
    "    if cv2.waitKey(1) & 0xFF == ord('x'):\n",
    "        break\n",
    "    \n",
    "cv2.destroyAllWindows()"
   ]
  },
  {
   "cell_type": "code",
   "execution_count": null,
   "id": "8c69a46c",
   "metadata": {},
   "outputs": [],
   "source": []
  },
  {
   "cell_type": "code",
   "execution_count": null,
   "id": "c00da7c3",
   "metadata": {},
   "outputs": [],
   "source": []
  }
 ],
 "metadata": {
  "kernelspec": {
   "display_name": "Python 3 (ipykernel)",
   "language": "python",
   "name": "python3"
  },
  "language_info": {
   "codemirror_mode": {
    "name": "ipython",
    "version": 3
   },
   "file_extension": ".py",
   "mimetype": "text/x-python",
   "name": "python",
   "nbconvert_exporter": "python",
   "pygments_lexer": "ipython3",
   "version": "3.10.4"
  }
 },
 "nbformat": 4,
 "nbformat_minor": 5
}
