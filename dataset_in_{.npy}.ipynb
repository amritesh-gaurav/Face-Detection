{
 "cells": [
  {
   "cell_type": "code",
   "execution_count": 1,
   "metadata": {},
   "outputs": [
    {
     "name": "stderr",
     "output_type": "stream",
     "text": [
      "C:\\Users\\siemens\\AppData\\Local\\Temp\\ipykernel_7340\\998226815.py:32: VisibleDeprecationWarning: Creating an ndarray from ragged nested sequences (which is a list-or-tuple of lists-or-tuples-or ndarrays with different lengths or shapes) is deprecated. If you meant to do this, you must specify 'dtype=object' when creating the ndarray.\n",
      "  imgset=np.array(x_train)\n"
     ]
    },
    {
     "ename": "ValueError",
     "evalue": "could not broadcast input array from shape (64,64,3) into shape (64,64)",
     "output_type": "error",
     "traceback": [
      "\u001b[1;31m---------------------------------------------------------------------------\u001b[0m",
      "\u001b[1;31mValueError\u001b[0m                                Traceback (most recent call last)",
      "\u001b[1;32me:\\Images\\dataset_in_{.npy}.ipynb Cell 1'\u001b[0m in \u001b[0;36m<cell line: 27>\u001b[1;34m()\u001b[0m\n\u001b[0;32m     <a href='vscode-notebook-cell:/e%3A/Images/dataset_in_%7B.npy%7D.ipynb#ch0000000?line=28'>29</a>\u001b[0m load_dataset()\n\u001b[0;32m     <a href='vscode-notebook-cell:/e%3A/Images/dataset_in_%7B.npy%7D.ipynb#ch0000000?line=30'>31</a>\u001b[0m \u001b[39m# Convert and save the list of images in '.npy' format\u001b[39;00m\n\u001b[1;32m---> <a href='vscode-notebook-cell:/e%3A/Images/dataset_in_%7B.npy%7D.ipynb#ch0000000?line=31'>32</a>\u001b[0m imgset\u001b[39m=\u001b[39mnp\u001b[39m.\u001b[39;49marray(x_train)\n\u001b[0;32m     <a href='vscode-notebook-cell:/e%3A/Images/dataset_in_%7B.npy%7D.ipynb#ch0000000?line=32'>33</a>\u001b[0m np\u001b[39m.\u001b[39msave(\u001b[39m\"\u001b[39m\u001b[39mcoe_faces.npy\u001b[39m\u001b[39m\"\u001b[39m,imgset)\n",
      "\u001b[1;31mValueError\u001b[0m: could not broadcast input array from shape (64,64,3) into shape (64,64)"
     ]
    }
   ],
   "source": [
    "from PIL import Image\n",
    "import os, sys\n",
    "import cv2\n",
    "import numpy as np\n",
    "\n",
    "'''\n",
    "Converts all images in a directory to '.npy' format.\n",
    "Use np.save and np.load to save and load the images.\n",
    "Use it for training your neural networks in ML/DL projects. \n",
    "'''\n",
    "\n",
    "# Path to image directory\n",
    "path = \"E:/D&C/\"\n",
    "dirs = os.listdir( path )\n",
    "dirs.sort()\n",
    "x_train=[]\n",
    "\n",
    "def load_dataset():\n",
    "    # Append images to a list\n",
    "    for item in dirs:\n",
    "        if os.path.isfile(path+item):\n",
    "            im = Image.open(path+item)\n",
    "            im = np.array(im)\n",
    "            im = np.true_divide(im,[255.0],out=None)\n",
    "            x_train.append(im)\n",
    "\n",
    "if __name__ == \"__main__\":\n",
    "    \n",
    "    load_dataset()\n",
    "    \n",
    "    # Convert and save the list of images in '.npy' format\n",
    "    imgset=np.array(x_train)\n",
    "    np.save(\"coe_faces.npy\",imgset)"
   ]
  },
  {
   "cell_type": "code",
   "execution_count": 2,
   "metadata": {},
   "outputs": [
    {
     "ename": "FileNotFoundError",
     "evalue": "[Errno 2] No such file or directory: 'coe_faces.npy'",
     "output_type": "error",
     "traceback": [
      "\u001b[1;31m---------------------------------------------------------------------------\u001b[0m",
      "\u001b[1;31mFileNotFoundError\u001b[0m                         Traceback (most recent call last)",
      "\u001b[1;32me:\\Images\\dataset_in_{.npy}.ipynb Cell 2'\u001b[0m in \u001b[0;36m<cell line: 2>\u001b[1;34m()\u001b[0m\n\u001b[0;32m      <a href='vscode-notebook-cell:/e%3A/Images/dataset_in_%7B.npy%7D.ipynb#ch0000001?line=0'>1</a>\u001b[0m \u001b[39mimport\u001b[39;00m \u001b[39mnumpy\u001b[39;00m \u001b[39mas\u001b[39;00m \u001b[39mnp\u001b[39;00m\n\u001b[1;32m----> <a href='vscode-notebook-cell:/e%3A/Images/dataset_in_%7B.npy%7D.ipynb#ch0000001?line=1'>2</a>\u001b[0m t \u001b[39m=\u001b[39m np\u001b[39m.\u001b[39;49mload(\u001b[39m'\u001b[39;49m\u001b[39mcoe_faces.npy\u001b[39;49m\u001b[39m'\u001b[39;49m)\n\u001b[0;32m      <a href='vscode-notebook-cell:/e%3A/Images/dataset_in_%7B.npy%7D.ipynb#ch0000001?line=2'>3</a>\u001b[0m \u001b[39mprint\u001b[39m(t)\n",
      "File \u001b[1;32mc:\\Users\\siemens\\AppData\\Local\\Programs\\Python\\Python310\\lib\\site-packages\\numpy\\lib\\npyio.py:407\u001b[0m, in \u001b[0;36mload\u001b[1;34m(file, mmap_mode, allow_pickle, fix_imports, encoding)\u001b[0m\n\u001b[0;32m    405\u001b[0m     own_fid \u001b[39m=\u001b[39m \u001b[39mFalse\u001b[39;00m\n\u001b[0;32m    406\u001b[0m \u001b[39melse\u001b[39;00m:\n\u001b[1;32m--> 407\u001b[0m     fid \u001b[39m=\u001b[39m stack\u001b[39m.\u001b[39menter_context(\u001b[39mopen\u001b[39;49m(os_fspath(file), \u001b[39m\"\u001b[39;49m\u001b[39mrb\u001b[39;49m\u001b[39m\"\u001b[39;49m))\n\u001b[0;32m    408\u001b[0m     own_fid \u001b[39m=\u001b[39m \u001b[39mTrue\u001b[39;00m\n\u001b[0;32m    410\u001b[0m \u001b[39m# Code to distinguish from NumPy binary files and pickles.\u001b[39;00m\n",
      "\u001b[1;31mFileNotFoundError\u001b[0m: [Errno 2] No such file or directory: 'coe_faces.npy'"
     ]
    }
   ],
   "source": [
    "import numpy as np\n",
    "t = np.load('coe_faces.npy')\n",
    "print(t)"
   ]
  }
 ],
 "metadata": {
  "kernelspec": {
   "display_name": "Python 3.10.5 64-bit",
   "language": "python",
   "name": "python3"
  },
  "language_info": {
   "codemirror_mode": {
    "name": "ipython",
    "version": 3
   },
   "file_extension": ".py",
   "mimetype": "text/x-python",
   "name": "python",
   "nbconvert_exporter": "python",
   "pygments_lexer": "ipython3",
   "version": "3.10.5"
  },
  "orig_nbformat": 4,
  "vscode": {
   "interpreter": {
    "hash": "45e6d53874419d5ee069b316505fbf446d1495aeccb32ce5c14ec9b4506a392b"
   }
  }
 },
 "nbformat": 4,
 "nbformat_minor": 2
}
