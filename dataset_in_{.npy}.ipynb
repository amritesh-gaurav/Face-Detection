{
 "cells": [
  {
   "cell_type": "code",
   "execution_count": 7,
   "metadata": {},
   "outputs": [
    {
     "ename": "AttributeError",
     "evalue": "max",
     "output_type": "error",
     "traceback": [
      "\u001b[1;31m---------------------------------------------------------------------------\u001b[0m",
      "\u001b[1;31mAttributeError\u001b[0m                            Traceback (most recent call last)",
      "\u001b[1;32me:\\Images\\dataset_in_{.npy}.ipynb Cell 1'\u001b[0m in \u001b[0;36m<cell line: 27>\u001b[1;34m()\u001b[0m\n\u001b[0;32m     <a href='vscode-notebook-cell:/e%3A/Images/dataset_in_%7B.npy%7D.ipynb#ch0000000?line=24'>25</a>\u001b[0m             x_train\u001b[39m.\u001b[39mappend(im)\n\u001b[0;32m     <a href='vscode-notebook-cell:/e%3A/Images/dataset_in_%7B.npy%7D.ipynb#ch0000000?line=26'>27</a>\u001b[0m \u001b[39mif\u001b[39;00m \u001b[39m__name__\u001b[39m \u001b[39m==\u001b[39m \u001b[39m\"\u001b[39m\u001b[39m__main__\u001b[39m\u001b[39m\"\u001b[39m:\n\u001b[1;32m---> <a href='vscode-notebook-cell:/e%3A/Images/dataset_in_%7B.npy%7D.ipynb#ch0000000?line=28'>29</a>\u001b[0m     load_dataset()\n\u001b[0;32m     <a href='vscode-notebook-cell:/e%3A/Images/dataset_in_%7B.npy%7D.ipynb#ch0000000?line=30'>31</a>\u001b[0m     \u001b[39m# Convert and save the list of images in '.npy' format\u001b[39;00m\n\u001b[0;32m     <a href='vscode-notebook-cell:/e%3A/Images/dataset_in_%7B.npy%7D.ipynb#ch0000000?line=31'>32</a>\u001b[0m     imgset\u001b[39m=\u001b[39mnp\u001b[39m.\u001b[39marray(x_train)\n",
      "\u001b[1;32me:\\Images\\dataset_in_{.npy}.ipynb Cell 1'\u001b[0m in \u001b[0;36mload_dataset\u001b[1;34m()\u001b[0m\n\u001b[0;32m     <a href='vscode-notebook-cell:/e%3A/Images/dataset_in_%7B.npy%7D.ipynb#ch0000000?line=20'>21</a>\u001b[0m \u001b[39mif\u001b[39;00m os\u001b[39m.\u001b[39mpath\u001b[39m.\u001b[39misfile(path\u001b[39m+\u001b[39mitem):\n\u001b[0;32m     <a href='vscode-notebook-cell:/e%3A/Images/dataset_in_%7B.npy%7D.ipynb#ch0000000?line=21'>22</a>\u001b[0m     im \u001b[39m=\u001b[39m Image\u001b[39m.\u001b[39mopen(path\u001b[39m+\u001b[39mitem)\n\u001b[1;32m---> <a href='vscode-notebook-cell:/e%3A/Images/dataset_in_%7B.npy%7D.ipynb#ch0000000?line=22'>23</a>\u001b[0m     im \u001b[39m=\u001b[39m im\u001b[39m/\u001b[39m(im\u001b[39m.\u001b[39;49mmax()\u001b[39m/\u001b[39m\u001b[39m255.0\u001b[39m)\n\u001b[0;32m     <a href='vscode-notebook-cell:/e%3A/Images/dataset_in_%7B.npy%7D.ipynb#ch0000000?line=23'>24</a>\u001b[0m     im \u001b[39m=\u001b[39m np\u001b[39m.\u001b[39marray(im)\n\u001b[0;32m     <a href='vscode-notebook-cell:/e%3A/Images/dataset_in_%7B.npy%7D.ipynb#ch0000000?line=24'>25</a>\u001b[0m     x_train\u001b[39m.\u001b[39mappend(im)\n",
      "File \u001b[1;32mc:\\Users\\siemens\\AppData\\Local\\Programs\\Python\\Python310\\lib\\site-packages\\PIL\\Image.py:548\u001b[0m, in \u001b[0;36mImage.__getattr__\u001b[1;34m(self, name)\u001b[0m\n\u001b[0;32m    541\u001b[0m     warnings\u001b[39m.\u001b[39mwarn(\n\u001b[0;32m    542\u001b[0m         \u001b[39m\"\u001b[39m\u001b[39mImage categories are deprecated and will be removed in Pillow 10 \u001b[39m\u001b[39m\"\u001b[39m\n\u001b[0;32m    543\u001b[0m         \u001b[39m\"\u001b[39m\u001b[39m(2023-07-01). Use is_animated instead.\u001b[39m\u001b[39m\"\u001b[39m,\n\u001b[0;32m    544\u001b[0m         \u001b[39mDeprecationWarning\u001b[39;00m,\n\u001b[0;32m    545\u001b[0m         stacklevel\u001b[39m=\u001b[39m\u001b[39m2\u001b[39m,\n\u001b[0;32m    546\u001b[0m     )\n\u001b[0;32m    547\u001b[0m     \u001b[39mreturn\u001b[39;00m \u001b[39mself\u001b[39m\u001b[39m.\u001b[39m_category\n\u001b[1;32m--> 548\u001b[0m \u001b[39mraise\u001b[39;00m \u001b[39mAttributeError\u001b[39;00m(name)\n",
      "\u001b[1;31mAttributeError\u001b[0m: max"
     ]
    }
   ],
   "source": [
    "from PIL import Image\n",
    "import os, sys\n",
    "import cv2\n",
    "import numpy as np\n",
    "\n",
    "'''\n",
    "Converts all images in a directory to '.npy' format.\n",
    "Use np.save and np.load to save and load the images.\n",
    "Use it for training your neural networks in ML/DL projects. \n",
    "'''\n",
    "\n",
    "# Path to image directory\n",
    "path = \"E:/D&C/Images/\"\n",
    "dirs = os.listdir( path )\n",
    "dirs.sort()\n",
    "x_train=[]\n",
    "\n",
    "def load_dataset():\n",
    "    # Append images to a list\n",
    "    for item in dirs:\n",
    "        if os.path.isfile(path+item):\n",
    "            im = Image.open(path+item)\n",
    "            im = np.array(im)\n",
    "            x_train.append(im)\n",
    "\n",
    "if __name__ == \"__main__\":\n",
    "    \n",
    "    load_dataset()\n",
    "    \n",
    "    # Convert and save the list of images in '.npy' format\n",
    "    imgset=np.array(x_train)\n",
    "    np.save(\"coe_faces.npy\",imgset)"
   ]
  },
  {
   "cell_type": "code",
   "execution_count": 6,
   "metadata": {},
   "outputs": [
    {
     "name": "stdout",
     "output_type": "stream",
     "text": [
      "[[[ 92 101 139 ... 145 135 116]\n",
      "  [ 94 109 152 ... 111 138 125]\n",
      "  [105 125 172 ...  95 137 138]\n",
      "  ...\n",
      "  [155 151 145 ...  96 102 105]\n",
      "  [155 153 144 ...  94  97  97]\n",
      "  [155 154 144 ...  92  93  90]]\n",
      "\n",
      " [[ 42  31  13 ... 162 161 162]\n",
      "  [ 30  33  28 ... 161 163 165]\n",
      "  [ 43  40  35 ... 162 162 163]\n",
      "  ...\n",
      "  [103  96 105 ... 121 123 125]\n",
      "  [147 119 139 ... 116 119 122]\n",
      "  [150 147 132 ... 111 115 119]]\n",
      "\n",
      " [[ 79  83  72 ... 109 140 127]\n",
      "  [ 81  83  73 ... 105 120 131]\n",
      "  [ 80  81  73 ... 153  91 133]\n",
      "  ...\n",
      "  [ 97  97  98 ... 178 178 185]\n",
      "  [ 98  98  99 ... 189 186 189]\n",
      "  [ 98  99 100 ... 196 188 187]]\n",
      "\n",
      " ...\n",
      "\n",
      " [[  8   6  13 ...   5   4   0]\n",
      "  [  8   4  16 ...   0   0   0]\n",
      "  [  5   2  17 ...   0   0   3]\n",
      "  ...\n",
      "  [128 129 132 ... 114 113 112]\n",
      "  [122 130 127 ... 114 113 113]\n",
      "  [124 132 123 ... 114 112 112]]\n",
      "\n",
      " [[  0   0   0 ...  24  17   9]\n",
      "  [  1   0   0 ...  27  23  17]\n",
      "  [  1   1   1 ...  41  34  26]\n",
      "  ...\n",
      "  [134 119 118 ...  60  64  67]\n",
      "  [125 140 155 ...  43  47  48]\n",
      "  [138 159 177 ...  47  45  42]]\n",
      "\n",
      " [[ 38  32  24 ...   5   4   8]\n",
      "  [ 28  28  25 ...   2   1   3]\n",
      "  [ 25  29  31 ...   1   0   0]\n",
      "  ...\n",
      "  [ 67  67  66 ... 108 110 115]\n",
      "  [ 56  57  59 ... 115 111 121]\n",
      "  [ 41  42  44 ... 138 122 127]]]\n"
     ]
    }
   ],
   "source": [
    "t = np.load('coe_faces.npy')\n",
    "print(t)"
   ]
  }
 ],
 "metadata": {
  "kernelspec": {
   "display_name": "Python 3.10.5 64-bit",
   "language": "python",
   "name": "python3"
  },
  "language_info": {
   "codemirror_mode": {
    "name": "ipython",
    "version": 3
   },
   "file_extension": ".py",
   "mimetype": "text/x-python",
   "name": "python",
   "nbconvert_exporter": "python",
   "pygments_lexer": "ipython3",
   "version": "3.10.5"
  },
  "orig_nbformat": 4,
  "vscode": {
   "interpreter": {
    "hash": "45e6d53874419d5ee069b316505fbf446d1495aeccb32ce5c14ec9b4506a392b"
   }
  }
 },
 "nbformat": 4,
 "nbformat_minor": 2
}
