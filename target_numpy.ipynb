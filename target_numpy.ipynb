{
 "cells": [
  {
   "cell_type": "code",
   "execution_count": 2,
   "metadata": {},
   "outputs": [],
   "source": [
    "\n",
    "\n",
    "# save numpy array as npy file\n",
    "from numpy import asarray\n",
    "from numpy import save\n",
    "import numpy as np\n",
    "# define data\n",
    "data = asarray([[0,0,0,0,0,1,1,1,1,1,2,2,3,3,3,3,3,4,4,4,4,4,5,5,5,5,5,6,6,6,6,6,7,7,7,7,7,8,8,8,8,9,9,9,9,9,10,10,10,10,10,11,11,11,11,11,12,12,12,12,12,12,13,13,13,13,13,14,14,14,14,14,15,15,15,16,16,16,16,16,17,17,17,17,18,18,18,18,18,18,19,19,19,19,19,20,20,20,20,20,21,21,21,21,21,22,22,22,22,22,23,23,23,23,23,24,24,24,24,24,25,25,25,25,25,26,26,26,26,26,27,27,27,27,27,28,28,28,28,28,29,29,29,29,29,30,30,30,30,30,31,31,31,31,31,32,32,32,32,32,33,33,34,34,34,34,34,34,34,35,35,35,35]])\n",
    "# save to npy file\n",
    "save('coe_faces_target.npy', data)\n",
    "\n"
   ]
  },
  {
   "cell_type": "code",
   "execution_count": 3,
   "metadata": {},
   "outputs": [
    {
     "name": "stdout",
     "output_type": "stream",
     "text": [
      "[[ 0  0  0  0  0  1  1  1  1  1  2  2  3  3  3  3  3  4  4  4  4  4  5  5\n",
      "   5  5  5  6  6  6  6  6  7  7  7  7  7  8  8  8  8  9  9  9  9  9 10 10\n",
      "  10 10 10 11 11 11 11 11 12 12 12 12 12 12 13 13 13 13 13 14 14 14 14 14\n",
      "  15 15 15 16 16 16 16 16 17 17 17 17 18 18 18 18 18 18 19 19 19 19 19 20\n",
      "  20 20 20 20 21 21 21 21 21 22 22 22 22 22 23 23 23 23 23 24 24 24 24 24\n",
      "  25 25 25 25 25 26 26 26 26 26 27 27 27 27 27 28 28 28 28 28 29 29 29 29\n",
      "  29 30 30 30 30 30 31 31 31 31 31 32 32 32 32 32 33 33 34 34 34 34 34 34\n",
      "  34 35 35 35 35]]\n"
     ]
    }
   ],
   "source": [
    "t = np.load('coe_faces_target.npy')\n",
    "print(t)"
   ]
  }
 ],
 "metadata": {
  "kernelspec": {
   "display_name": "Python 3.10.5 64-bit",
   "language": "python",
   "name": "python3"
  },
  "language_info": {
   "codemirror_mode": {
    "name": "ipython",
    "version": 3
   },
   "file_extension": ".py",
   "mimetype": "text/x-python",
   "name": "python",
   "nbconvert_exporter": "python",
   "pygments_lexer": "ipython3",
   "version": "3.10.5"
  },
  "orig_nbformat": 4,
  "vscode": {
   "interpreter": {
    "hash": "45e6d53874419d5ee069b316505fbf446d1495aeccb32ce5c14ec9b4506a392b"
   }
  }
 },
 "nbformat": 4,
 "nbformat_minor": 2
}
